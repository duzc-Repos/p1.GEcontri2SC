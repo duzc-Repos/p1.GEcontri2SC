{
 "cells": [
  {
   "cell_type": "code",
   "execution_count": 248,
   "metadata": {},
   "outputs": [],
   "source": [
    "import numpy as np\n",
    "import matplotlib.pyplot as plt\n",
    "import pandas as pd\n",
    "import pickle"
   ]
  },
  {
   "cell_type": "code",
   "execution_count": 178,
   "metadata": {},
   "outputs": [],
   "source": [
    "import numpy as np\n",
    "from sklearn.metrics.pairwise import rbf_kernel\n",
    "from scipy.spatial.distance import pdist, squareform\n",
    "from scipy.sparse.linalg import eigsh\n",
    "from scipy.sparse.csgraph import connected_components\n",
    "import scipy as sp\n",
    "\n",
    "def compute_affinity(x, kernel=\"cosine\", gamma=None, non_zeros=True):\n",
    "    x = x.copy()\n",
    "    if kernel in {'pearson', 'spearman'}:\n",
    "        if kernel == 'spearman':\n",
    "            x = sp.stats.rankdata(group_average, axis=1)\n",
    "        affinity = np.corrcoef(x)\n",
    "    elif kernel in {'cosine', 'normalized_angle'}:\n",
    "        x = 1 - squareform( pdist(x, metric='cosine') )\n",
    "        if kernel == 'normalized_angle':\n",
    "            x = 1 - np.arccos(x, x)/np.pi\n",
    "        affinity = x\n",
    "    elif kernel == 'rbf':\n",
    "        if gamma is None:\n",
    "            gamma = 1 / x.shape[1]\n",
    "        affinity = rbf_kernel(x, gamma=gamma)\n",
    "    else:\n",
    "        raise ValueError(\"Invalide kernel\")\n",
    "    if non_zeros:\n",
    "        affinity[affinity<0] = 0\n",
    "    \n",
    "    n_connected_components = connected_components(affinity)[0]\n",
    "    if n_connected_components != 1:\n",
    "        raise ValueError(f\"Invalide connected components {n_connected_components}\")\n",
    "    return affinity\n",
    "\n",
    "def compute_diffusion_map(affinity, alpha=0.5, n_components=2, diffusion_time=0):\n",
    "    D_alpha = np.diag( np.power(affinity.sum(axis=1), -alpha) )\n",
    "    L_alpha = D_alpha.dot(affinity).dot(D_alpha)\n",
    "    D_alpha = np.diag( L_alpha.sum(axis=1) )\n",
    "    P = np.linalg.inv(D_alpha).dot(L_alpha)\n",
    "\n",
    "    v0 = np.random.uniform(-1, 1, affinity.shape[0])\n",
    "    eigen_vals, eigen_vecs = eigsh(P, k=n_components+1, which='LM', tol=0, v0=v0)\n",
    "    eigen_vals, eigen_vecs = eigen_vals[::-1], eigen_vecs[:, ::-1] #从大到小\n",
    "\n",
    "    eigen_vals = eigen_vals[1:]/eigen_vals[0]\n",
    "    if diffusion_time <= 0:\n",
    "        eigen_vals /= (1-eigen_vals)\n",
    "    else:\n",
    "        eigen_vals **= diffusion_time\n",
    "    eigen_vecs = eigen_vecs[:, 1:]/eigen_vecs[:, [0]]\n",
    "\n",
    "    eigen_vecs_rescale = eigen_vecs * eigen_vals[None, :]\n",
    "    eigen_vecs_rescale *= np.sign(np.abs(eigen_vecs_rescale).max(axis=0))[None, :]\n",
    "    return eigen_vecs_rescale, eigen_vals"
   ]
  },
  {
   "cell_type": "code",
   "execution_count": 232,
   "metadata": {},
   "outputs": [],
   "source": [
    "group_average = np.load('./test/rsfMRI/group246_965_rfconnection.npy').mean(axis=0).reshape((246, 246))\n",
    "anno_network = pd.read_table(\"./test/rsfMRI/BrainnetomeAtlasToYeoNetwork.tsv\")\n",
    "network_labels = [\"None\", \"Visual\", \"Somatomotor\", \"Dorsal Attention\", \"Ventral Attention\", \"Limbic\", \"Frontoparietal\", \"Default\"]"
   ]
  },
  {
   "cell_type": "code",
   "execution_count": 247,
   "metadata": {},
   "outputs": [
    {
     "data": {
      "text/html": [
       "<div>\n",
       "<style scoped>\n",
       "    .dataframe tbody tr th:only-of-type {\n",
       "        vertical-align: middle;\n",
       "    }\n",
       "\n",
       "    .dataframe tbody tr th {\n",
       "        vertical-align: top;\n",
       "    }\n",
       "\n",
       "    .dataframe thead th {\n",
       "        text-align: right;\n",
       "    }\n",
       "</style>\n",
       "<table border=\"1\" class=\"dataframe\">\n",
       "  <thead>\n",
       "    <tr style=\"text-align: right;\">\n",
       "      <th></th>\n",
       "      <th>0</th>\n",
       "    </tr>\n",
       "    <tr>\n",
       "      <th>Yeo_7network</th>\n",
       "      <th></th>\n",
       "    </tr>\n",
       "  </thead>\n",
       "  <tbody>\n",
       "    <tr>\n",
       "      <th>0</th>\n",
       "      <td>0.046089</td>\n",
       "    </tr>\n",
       "    <tr>\n",
       "      <th>1</th>\n",
       "      <td>0.068608</td>\n",
       "    </tr>\n",
       "    <tr>\n",
       "      <th>2</th>\n",
       "      <td>0.062610</td>\n",
       "    </tr>\n",
       "    <tr>\n",
       "      <th>3</th>\n",
       "      <td>0.042436</td>\n",
       "    </tr>\n",
       "    <tr>\n",
       "      <th>4</th>\n",
       "      <td>0.039752</td>\n",
       "    </tr>\n",
       "    <tr>\n",
       "      <th>5</th>\n",
       "      <td>-0.041471</td>\n",
       "    </tr>\n",
       "    <tr>\n",
       "      <th>6</th>\n",
       "      <td>-0.047493</td>\n",
       "    </tr>\n",
       "    <tr>\n",
       "      <th>7</th>\n",
       "      <td>-0.167553</td>\n",
       "    </tr>\n",
       "  </tbody>\n",
       "</table>\n",
       "</div>"
      ],
      "text/plain": [
       "                     0\n",
       "Yeo_7network          \n",
       "0             0.046089\n",
       "1             0.068608\n",
       "2             0.062610\n",
       "3             0.042436\n",
       "4             0.039752\n",
       "5            -0.041471\n",
       "6            -0.047493\n",
       "7            -0.167553"
      ]
     },
     "execution_count": 247,
     "metadata": {},
     "output_type": "execute_result"
    }
   ],
   "source": [
    "r = np.sort(np.corrcoef(group_average), axis=1)\n",
    "r[:, :r.shape[1]//10] = 0\n",
    "affinity = compute_affinity(r, kernel=\"normalized_angle\")\n",
    "fc_gredient, fc_vals = compute_diffusion_map(affinity, alpha=0.5, diffusion_time=0)\n",
    "fc_gredient_mean = pd.DataFrame(fc_gredient[:, 0]).groupby(anno_network['Yeo_7network']).mean()\n",
    "fc_gredient_mean"
   ]
  },
  {
   "cell_type": "code",
   "execution_count": 255,
   "metadata": {},
   "outputs": [],
   "source": [
    "pickle.dump([fc_gredient, fc_vals], open(\"./fc_gredient.pkl\", \"wb\"))"
   ]
  },
  {
   "cell_type": "code",
   "execution_count": 256,
   "metadata": {},
   "outputs": [
    {
     "data": {
      "text/html": [
       "<div>\n",
       "<style scoped>\n",
       "    .dataframe tbody tr th:only-of-type {\n",
       "        vertical-align: middle;\n",
       "    }\n",
       "\n",
       "    .dataframe tbody tr th {\n",
       "        vertical-align: top;\n",
       "    }\n",
       "\n",
       "    .dataframe thead th {\n",
       "        text-align: right;\n",
       "    }\n",
       "</style>\n",
       "<table border=\"1\" class=\"dataframe\">\n",
       "  <thead>\n",
       "    <tr style=\"text-align: right;\">\n",
       "      <th></th>\n",
       "      <th>0</th>\n",
       "    </tr>\n",
       "    <tr>\n",
       "      <th>Yeo_7network</th>\n",
       "      <th></th>\n",
       "    </tr>\n",
       "  </thead>\n",
       "  <tbody>\n",
       "    <tr>\n",
       "      <th>0</th>\n",
       "      <td>0.046089</td>\n",
       "    </tr>\n",
       "    <tr>\n",
       "      <th>1</th>\n",
       "      <td>0.068608</td>\n",
       "    </tr>\n",
       "    <tr>\n",
       "      <th>2</th>\n",
       "      <td>0.062610</td>\n",
       "    </tr>\n",
       "    <tr>\n",
       "      <th>3</th>\n",
       "      <td>0.042436</td>\n",
       "    </tr>\n",
       "    <tr>\n",
       "      <th>4</th>\n",
       "      <td>0.039752</td>\n",
       "    </tr>\n",
       "    <tr>\n",
       "      <th>5</th>\n",
       "      <td>-0.041471</td>\n",
       "    </tr>\n",
       "    <tr>\n",
       "      <th>6</th>\n",
       "      <td>-0.047493</td>\n",
       "    </tr>\n",
       "    <tr>\n",
       "      <th>7</th>\n",
       "      <td>-0.167553</td>\n",
       "    </tr>\n",
       "  </tbody>\n",
       "</table>\n",
       "</div>"
      ],
      "text/plain": [
       "                     0\n",
       "Yeo_7network          \n",
       "0             0.046089\n",
       "1             0.068608\n",
       "2             0.062610\n",
       "3             0.042436\n",
       "4             0.039752\n",
       "5            -0.041471\n",
       "6            -0.047493\n",
       "7            -0.167553"
      ]
     },
     "execution_count": 256,
     "metadata": {},
     "output_type": "execute_result"
    }
   ],
   "source": [
    "fc_gredient, fc_vals = pickle.load(open(\"./fc_gredient.pkl\", \"rb\"))\n",
    "pd.DataFrame(fc_gredient[:, 0]).groupby(anno_network['Yeo_7network']).mean()"
   ]
  },
  {
   "cell_type": "code",
   "execution_count": 265,
   "metadata": {},
   "outputs": [],
   "source": [
    "data = []\n",
    "for idx in range(8):\n",
    "    data.append(fc_gredient[anno_network['Yeo_7network']==idx, 0])\n",
    "len(data)\n",
    "fc_gredient_mean = pd.DataFrame(fc_gredient[:, 0]).groupby(anno_network['Yeo_7network']).mean().values[:, 0]"
   ]
  },
  {
   "cell_type": "code",
   "execution_count": 273,
   "metadata": {},
   "outputs": [
    {
     "data": {
      "image/png": "[encoded data removed]",
      "text/plain": [
       "<Figure size 864x360 with 2 Axes>"
      ]
     },
     "metadata": {
      "needs_background": "light"
     },
     "output_type": "display_data"
    }
   ],
   "source": [
    "plt.figure(figsize=(12, 5))\n",
    "ax = plt.subplot(1, 2, 1)\n",
    "for i, dat in enumerate(data):\n",
    "    ax.boxplot(-dat, positions=[i], widths=0.6)\n",
    "ax.set_xticklabels([\"None\", \"Vis\", \"Mot\", \"dATN\", \"vATN\", \"Limb\", \"FPN\", \"DN\"])\n",
    "ax.set_yticks([])\n",
    "ax.set_ylabel(\"Functional Gredient\", size=20)\n",
    "\n",
    "plt.subplot(1, 2, 2)\n",
    "plt.bar([\"None\", \"Vis\", \"Mot\", \"dATN\", \"vATN\", \"Limb\", \"FPN\", \"DN\"], -fc_gredient_mean+0.1)\n",
    "\n",
    "plt.show()\n",
    "plt.close()"
   ]
  },
  {
   "cell_type": "code",
   "execution_count": null,
   "metadata": {},
   "outputs": [],
   "source": []
  },
  {
   "cell_type": "code",
   "execution_count": null,
   "metadata": {},
   "outputs": [],
   "source": []
  }
 ],
 "metadata": {
  "interpreter": {
   "hash": "4fcc540e1488815df76e6b318595c3566285f5bc1293cc742eaa521f117eecc0"
  },
  "kernelspec": {
   "display_name": "Python 3.8.12 64-bit ('base': conda)",
   "language": "python",
   "name": "python3"
  },
  "language_info": {
   "codemirror_mode": {
    "name": "ipython",
    "version": 3
   },
   "file_extension": ".py",
   "mimetype": "text/x-python",
   "name": "python",
   "nbconvert_exporter": "python",
   "pygments_lexer": "ipython3",
   "version": "3.8.12"
  },
  "orig_nbformat": 4
 },
 "nbformat": 4,
 "nbformat_minor": 2
}
